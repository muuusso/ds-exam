{
 "cells": [
  {
   "cell_type": "code",
   "execution_count": 19,
   "id": "85dbe41e",
   "metadata": {},
   "outputs": [],
   "source": [
    "import os\n",
    "\n",
    "import matplotlib.pyplot as plt\n",
    "import numpy as np\n",
    "import pandas as pd\n",
    "from scipy.interpolate import CubicSpline\n",
    "from scipy.integrate import simpson\n",
    "from scipy.optimize import nnls, lsq_linear\n",
    "from sklearn.preprocessing import MinMaxScaler, StandardScaler\n",
    "\n",
    "names = ['wn'] + [i for i in range(121)]\n",
    "\n",
    "s1 = pd.read_csv('data/S1_bkg_mapA_11x11.txt', delim_whitespace=True, names=names)\n",
    "s2 = pd.read_csv('data/S2_bkg_mapA_11x11.txt', delim_whitespace=True, names=names)\n",
    "\n",
    "s1_intensities = simpson(s1[[i for i in range(121)]].values.T, s1.wn)\n",
    "s2_intensities = simpson(s2[[i for i in range(121)]].values.T, s2.wn)\n",
    "\n",
    "# normalization of the spectra\n",
    "s1[[i for i in range(121)]] = s1[[i for i in range(121)]].div(s1_intensities, axis=1)\n",
    "s2[[i for i in range(121)]] = s2[[i for i in range(121)]].div(s2_intensities, axis=1)\n",
    "\n",
    "s1 = s1.T.rename(columns=s1.T.loc['wn'].map(int)).loc[0:]\n",
    "s2 = s2.T.rename(columns=s2.T.loc['wn'].map(int)).loc[0:]\n",
    "\n",
    "wn = s1.columns.map(float).values"
   ]
  },
  {
   "cell_type": "code",
   "execution_count": 96,
   "id": "79012189",
   "metadata": {},
   "outputs": [
    {
     "data": {
      "text/plain": [
       "array([[-2.71050543e-19, -2.71050543e-19, -2.71050543e-19, ...,\n",
       "        -2.71050543e-19, -2.71050543e-19, -3.25260652e-19],\n",
       "       [-1.89735380e-19, -1.62630326e-19, -1.89735380e-19, ...,\n",
       "        -2.16840434e-19, -2.16840434e-19, -2.16840434e-19],\n",
       "       [ 3.25260652e-19,  3.79470760e-19,  3.79470760e-19, ...,\n",
       "         3.25260652e-19,  3.25260652e-19,  3.79470760e-19],\n",
       "       ...,\n",
       "       [-1.08420217e-19, -1.08420217e-19, -1.62630326e-19, ...,\n",
       "        -3.25260652e-19, -4.33680869e-19, -3.25260652e-19],\n",
       "       [-2.16840434e-19, -2.16840434e-19, -2.16840434e-19, ...,\n",
       "        -4.06575815e-20, -4.06575815e-20, -2.71050543e-20],\n",
       "       [-2.71050543e-19, -2.71050543e-19, -2.71050543e-19, ...,\n",
       "        -4.33680869e-19, -4.33680869e-19, -4.33680869e-19]])"
      ]
     },
     "execution_count": 96,
     "metadata": {},
     "output_type": "execute_result"
    }
   ],
   "source": [
    "sample_domain = np.loadtxt('data/S1_bkg_mapA_11x11.txt')[:, 0]\n",
    "sample_spectra = np.loadtxt('data/S1_bkg_mapA_11x11.txt').T[1:]\n",
    "sample_spectra = sample_spectra / simpson(sample_spectra, sample_domain)[:, None]\n",
    "sample_spectra  - s1.values"
   ]
  },
  {
   "cell_type": "code",
   "execution_count": 101,
   "id": "6aba27d8",
   "metadata": {},
   "outputs": [],
   "source": [
    "int_dom_ind = np.where((sample_domain > min(int_domain)) & \n",
    "                       (sample_domain < max(int_domain)))"
   ]
  },
  {
   "cell_type": "code",
   "execution_count": 100,
   "id": "80152180",
   "metadata": {},
   "outputs": [],
   "source": [
    "%matplotlib inline\n",
    "plt.rcParams['figure.figsize'] = (8, 6)\n",
    "\n",
    "reference_path = os.path.join('data', 'Database Raman')\n",
    "\n",
    "labels  = []\n",
    "domains = []\n",
    "spectra = []\n",
    "\n",
    "for filename in os.listdir(reference_path):\n",
    "    # avoid non spectra files\n",
    "    if sum(s.isupper() for s in filename) < 2:\n",
    "        labels.append(filename.split('.')[0])\n",
    "\n",
    "        filename = os.path.join(reference_path, filename)\n",
    "        domains.append(np.loadtxt(filename)[:, 0])\n",
    "        spectra.append(np.loadtxt(filename)[:, 1])"
   ]
  },
  {
   "cell_type": "code",
   "execution_count": 3,
   "id": "53d8cb7b",
   "metadata": {},
   "outputs": [
    {
     "data": {
      "text/plain": [
       "(226.1141, 1200.811)"
      ]
     },
     "execution_count": 3,
     "metadata": {},
     "output_type": "execute_result"
    }
   ],
   "source": [
    "max_min = []\n",
    "min_max = []\n",
    "for domain in domains:\n",
    "    max_min.append(domain[1])\n",
    "    min_max.append(domain[-2])\n",
    "    \n",
    "np.max(max_min), np.min(min_max)"
   ]
  },
  {
   "cell_type": "code",
   "execution_count": 42,
   "id": "d65b671e",
   "metadata": {},
   "outputs": [],
   "source": [
    "max_wn_ind = np.where(wn == 1200)[0][0]\n",
    "int_domain = wn[:max_wn_ind + 1]\n",
    "\n",
    "int_spectra = np.zeros((len(spectra), max_wn_ind + 1))\n",
    "for i, (domain, spectrum) in enumerate(zip(domains, spectra)):\n",
    "    # avoid negative values (???)\n",
    "    spectrum = np.where(spectrum < 0, 0, spectrum)\n",
    "    int_spectra[i] = CubicSpline(domain[1:-1], spectrum[1:-1], extrapolate=False)(int_domain)\n",
    "    int_spectra[i] = np.nan_to_num(int_spectra[i])\n",
    "    int_spectra[i] = int_spectra[i] / simpson(int_spectra[i], int_domain)\n",
    "\n",
    "scaler = MinMaxScaler().fit(int_spectra)\n",
    "int_spectra = scaler.transform(int_spectra)"
   ]
  },
  {
   "cell_type": "code",
   "execution_count": 68,
   "id": "cab60bdc",
   "metadata": {
    "scrolled": true
   },
   "outputs": [],
   "source": [
    "s1_renorm = s1.values[:, :max_wn_ind + 1] / simpson(s1.values[:, :max_wn_ind + 1], int_domain)[:, None]\n",
    "s2_renorm = s2.values[:, :max_wn_ind + 1] / simpson(s2.values[:, :max_wn_ind + 1], int_domain)[:, None]\n",
    "\n",
    "s1_renorm = scaler.transform(s1_renorm)\n",
    "s2_renorm = scaler.transform(s2_renorm)"
   ]
  },
  {
   "cell_type": "code",
   "execution_count": null,
   "id": "30294f09",
   "metadata": {},
   "outputs": [],
   "source": [
    "### non_zero = []\n",
    "labels_dist = []\n",
    "residuals = []\n",
    "lss = []\n",
    "X = np.zeros((121, 61))\n",
    "\n",
    "for i in range(121):\n",
    "    ls, res = nnls(int_spectra.T, s1_renorm[i], maxiter=1000)\n",
    "    lss.append(ls / np.sum(ls))\n",
    "    residuals.append(res)\n",
    "\n",
    "#     fig, (ax1, ax2) = plt.subplots(1, 2, figsize=(17, 6))\n",
    "#     ax1.plot(int_domain, s1_renorm[i], label='original')\n",
    "#     ax1.plot(int_domain, int_spectra.T.dot(ls), label='reconstructed')\n",
    "#     ax1.legend()\n",
    "#     ax1.grid()\n",
    "\n",
    "#     ax2.scatter(np.arange(1, 62), ls / np.sum(ls))\n",
    "#     ax2.grid()\n",
    "\n",
    "#     plt.show()\n",
    "\n",
    "    ls = np.where((ls / np.sum(ls)) <= .2, 0, ls)\n",
    "    \n",
    "    labels_dist.append(np.sum(np.nonzero(ls)[0]))\n",
    "    non_zero.append(np.nonzero(ls)[0].shape[0])\n",
    "    X[i] = ls / np.sum(ls)\n",
    "\n",
    "X = np.nan_to_num(X, nan=-1)"
   ]
  },
  {
   "cell_type": "code",
   "execution_count": 80,
   "id": "1dd8d453",
   "metadata": {},
   "outputs": [],
   "source": [
    "non_zero = np.array(non_zero)\n",
    "lss = np.array(lss)\n",
    "residuals = np.array(residuals)\n",
    "labels_dist = np.array(labels_dist)"
   ]
  },
  {
   "cell_type": "code",
   "execution_count": 81,
   "id": "3af0f6f1",
   "metadata": {
    "scrolled": false
   },
   "outputs": [
    {
     "data": {
      "text/plain": [
       "0.595"
      ]
     },
     "execution_count": 81,
     "metadata": {},
     "output_type": "execute_result"
    }
   ],
   "source": [
    "round(np.where((non_zero > 0) & (non_zero < 4) & (residuals < 3))[0].shape[0] / residuals.shape[0], 3)"
   ]
  },
  {
   "cell_type": "code",
   "execution_count": 82,
   "id": "98249168",
   "metadata": {
    "scrolled": false
   },
   "outputs": [
    {
     "data": {
      "image/png": "[encoded data removed]",
      "text/plain": [
       "<Figure size 576x432 with 1 Axes>"
      ]
     },
     "metadata": {
      "needs_background": "light"
     },
     "output_type": "display_data"
    }
   ],
   "source": [
    "plt.hist(non_zero, bins=np.arange(10), density=True)\n",
    "plt.grid()"
   ]
  },
  {
   "cell_type": "code",
   "execution_count": 83,
   "id": "66b30bbe",
   "metadata": {
    "scrolled": false
   },
   "outputs": [
    {
     "name": "stdout",
     "output_type": "stream",
     "text": [
      "1.8536445601977063 0.39851135148935807\n"
     ]
    },
    {
     "data": {
      "image/png": "[encoded data removed]",
      "text/plain": [
       "<Figure size 576x432 with 1 Axes>"
      ]
     },
     "metadata": {
      "needs_background": "light"
     },
     "output_type": "display_data"
    }
   ],
   "source": [
    "res_ind = np.where((non_zero > 0) & (residuals < 3))[0]\n",
    "print(np.mean(residuals[res_ind]), np.std(residuals[res_ind]))\n",
    "plt.hist(residuals[res_ind], bins=np.arange(10), density=True)\n",
    "plt.grid()"
   ]
  },
  {
   "cell_type": "code",
   "execution_count": 84,
   "id": "698d191f",
   "metadata": {
    "scrolled": false
   },
   "outputs": [
    {
     "name": "stdout",
     "output_type": "stream",
     "text": [
      "8\n"
     ]
    },
    {
     "data": {
      "image/png": "[encoded data removed]",
      "text/plain": [
       "<Figure size 576x432 with 1 Axes>"
      ]
     },
     "metadata": {
      "needs_background": "light"
     },
     "output_type": "display_data"
    }
   ],
   "source": [
    "print(len(set(labels_dist)))\n",
    "np.where((non_zero > 0) & (non_zero < 4) & (residuals < 3))[0].shape[0] / residuals.shape[0]\n",
    "plt.hist(labels_dist, bins=np.arange(122))\n",
    "plt.grid()"
   ]
  },
  {
   "cell_type": "code",
   "execution_count": 90,
   "id": "450f016a",
   "metadata": {
    "scrolled": false
   },
   "outputs": [
    {
     "data": {
      "image/png": "[encoded data removed]",
      "text/plain": [
       "<Figure size 576x432 with 1 Axes>"
      ]
     },
     "metadata": {
      "needs_background": "light"
     },
     "output_type": "display_data"
    }
   ],
   "source": [
    "from sklearn.cluster import KMeans\n",
    "from sklearn.metrics import calinski_harabasz_score, davies_bouldin_score, silhouette_score\n",
    "\n",
    "distortions = []\n",
    "silhouette = []\n",
    "davies = []\n",
    "for k in range(3, 10):\n",
    "    kmeans = KMeans(n_clusters=k, max_iter=10000, tol=1e-6, random_state=0).fit(X)\n",
    "    labels = kmeans.labels_\n",
    "    distortions.append(kmeans.inertia_)\n",
    "    silhouette.append(silhouette_score(X, labels))\n",
    "    davies.append(davies_bouldin_score(X, labels))\n",
    "\n",
    "#     print(k, round(calinski_harabasz_score(X, labels), 5), \n",
    "#              round(silhouette_score(X, labels), 5),\n",
    "#              round(davies_bouldin_score(X, labels), 5))\n",
    "\n",
    "plt.plot(np.arange(3, 10), np.array(distortions) / max(distortions), label='dist')\n",
    "plt.plot(np.arange(3, 10), np.array(silhouette) / max(silhouette), label='sil')\n",
    "plt.plot(np.arange(3, 10), np.array(davies) / max(davies), label='davies')\n",
    "plt.xlabel('k', fontsize=14)\n",
    "plt.legend()\n",
    "plt.grid()"
   ]
  },
  {
   "cell_type": "code",
   "execution_count": 91,
   "id": "b1fc892b",
   "metadata": {
    "scrolled": false
   },
   "outputs": [
    {
     "data": {
      "image/png": "[encoded data removed]",
      "text/plain": [
       "<Figure size 504x504 with 1 Axes>"
      ]
     },
     "metadata": {
      "needs_background": "light"
     },
     "output_type": "display_data"
    }
   ],
   "source": [
    "x, y = np.meshgrid(np.arange(1, 12), np.arange(1, 12))\n",
    "\n",
    "label_to_color = {\n",
    "    0 : 'tab:blue',\n",
    "    1 : 'tab:orange',\n",
    "    2 : 'tab:green',\n",
    "    3 : 'tab:red',\n",
    "    4 : 'tab:purple',\n",
    "    5 : 'tab:brown',\n",
    "    6 : 'tab:pink',\n",
    "    7 : 'tab:gray',\n",
    "    8 : 'tab:cyan',\n",
    "}\n",
    "\n",
    "plt.figure(figsize=(7, 7))\n",
    "kmeans = KMeans(n_clusters=8, max_iter=10000, tol=1e-6, random_state=0).fit(X)\n",
    "labels = kmeans.predict(X)\n",
    "\n",
    "colors = np.array([label_to_color[i] for i in labels])\n",
    "\n",
    "plt.scatter(x, y, c=colors, s=1000, marker='s')\n",
    "plt.show()"
   ]
  }
 ],
 "metadata": {
  "kernelspec": {
   "display_name": "Python 3 (ipykernel)",
   "language": "python",
   "name": "python3"
  },
  "language_info": {
   "codemirror_mode": {
    "name": "ipython",
    "version": 3
   },
   "file_extension": ".py",
   "mimetype": "text/x-python",
   "name": "python",
   "nbconvert_exporter": "python",
   "pygments_lexer": "ipython3",
   "version": "3.10.4"
  }
 },
 "nbformat": 4,
 "nbformat_minor": 5
}
